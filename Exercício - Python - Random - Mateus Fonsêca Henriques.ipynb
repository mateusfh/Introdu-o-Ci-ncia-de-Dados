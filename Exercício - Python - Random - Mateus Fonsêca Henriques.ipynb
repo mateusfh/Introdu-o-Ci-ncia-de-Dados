{
 "cells": [
  {
   "cell_type": "markdown",
   "metadata": {},
   "source": [
    "# Introdução à Ciência de Dados - UFPB\n",
    "Professor: Yuri Malheiros\n",
    "\n",
    "## Python - Random - Exercício"
   ]
  },
  {
   "cell_type": "markdown",
   "metadata": {},
   "source": [
    "Implemente a função `generate_password` que deve gerar uma senha aleatória.\n",
    "\n",
    "A função tem tres parâmetros:\n",
    "\n",
    "- `n_chars` especifica o tamanho da senha gerada\n",
    "- `use_numbers` especifica se números podem ser usados na senha. Por padrão, esse parâmetro tem valor True\n",
    "- `use_special_chars` especifica se caracteres especiais, por exemplo !#%&@?, pode ser usados na senha. Por padrão, esse parâmetro tem valor True\n",
    "\n",
    "Note que se `use_numbers` e `use_special_chars` tiverem valor False, a senha terá apenas letras maiúsculas ou minúsculas."
   ]
  },
  {
   "cell_type": "code",
   "execution_count": 147,
   "metadata": {},
   "outputs": [],
   "source": [
    "import random\n",
    "\n",
    "#CRIANDO LISTA DE LETRAS POSSIVEIS PARA SENHA\n",
    "alfabeto = \"A - B - C - D - E - F - G - H - I - J - K - L - M - N - O - P - Q - R - S - T - U - V - W - X - Y - Z\"\n",
    "alfabeto = alfabeto + \" - \" + alfabeto.lower()\n",
    "alfabeto = alfabeto.split(\" - \")\n",
    "\n",
    "#CRIANDO LISTA DE NUMEROS POSSIVEIS PARA SENHA\n",
    "numbers = \"0 - 1 - 2 - 3 - 4 - 5 - 6 - 7 - 8 - 9\"\n",
    "numbers = numbers.split(\" - \")\n",
    "\n",
    "#CRIANDO LISTA DE CARACTERES ESPECIAIS POSSIVEIS PARA SENHA\n",
    "special_chars = \"! - # - $ - % - & - ' - ( - ) - * - + - , - . - / - : - ; - < - = - > - ? - @ - [ - \\ - ] - ^ - _ - ` - { - | - } - ~\"\n",
    "special_chars = special_chars.split(\" - \")\n",
    "#ADICIONANDO OS CARACTERES - E \"\n",
    "special_chars.append(\"-\")\n",
    "special_chars.append('\"')\n",
    "\n",
    "def generate_password(n_chars, use_numbers=True, use_special_chars=True):\n",
    "    new_password = []\n",
    "    str_new_password = \"\"  \n",
    "    \n",
    "    if use_numbers and use_special_chars:\n",
    "        for i in range(n_chars):\n",
    "            new_choice = random.choice(alfabeto+numbers+special_chars)\n",
    "            new_password.append(new_choice)\n",
    "        return str_new_password.join(new_password)\n",
    "    \n",
    "    elif use_numbers:\n",
    "        for i in range(n_chars):\n",
    "            new_choice = random.choice(alfabeto+numbers)\n",
    "            new_password.append(new_choice)\n",
    "        return str_new_password.join(new_password)\n",
    "    \n",
    "    elif use_special_chars:\n",
    "        for i in range(n_chars):\n",
    "            new_choice = random.choice(alfabeto+special_chars)\n",
    "            new_password.append(new_choice)\n",
    "        return str_new_password.join(new_password)\n",
    "    \n",
    "    else:\n",
    "        for i in range(n_chars):\n",
    "            new_choice = random.choice(alfabeto)\n",
    "            new_password.append(new_choice)\n",
    "            \n",
    "        return str_new_password.join(new_password)\n",
    "    \n",
    "        "
   ]
  },
  {
   "cell_type": "code",
   "execution_count": 150,
   "metadata": {},
   "outputs": [
    {
     "name": "stdout",
     "output_type": "stream",
     "text": [
      "'Bo?6j8)a?\n",
      "|Mp;jbUAka\n",
      "ZkdgSdorAj\n"
     ]
    }
   ],
   "source": [
    "print(generate_password(10, True, True))\n",
    "print(generate_password(10, use_numbers=False))\n",
    "print(generate_password(10, use_numbers=False, use_special_chars=False))"
   ]
  }
 ],
 "metadata": {
  "kernelspec": {
   "display_name": "Python 3",
   "language": "python",
   "name": "python3"
  },
  "language_info": {
   "codemirror_mode": {
    "name": "ipython",
    "version": 3
   },
   "file_extension": ".py",
   "mimetype": "text/x-python",
   "name": "python",
   "nbconvert_exporter": "python",
   "pygments_lexer": "ipython3",
   "version": "3.8.6rc1"
  }
 },
 "nbformat": 4,
 "nbformat_minor": 4
}
